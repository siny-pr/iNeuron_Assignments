{
 "cells": [
  {
   "cell_type": "markdown",
   "metadata": {},
   "source": [
    "## Question 1\n",
    "\n",
    "Write a Python program to convert kilometers to miles?"
   ]
  },
  {
   "cell_type": "code",
   "execution_count": 4,
   "metadata": {},
   "outputs": [
    {
     "name": "stdout",
     "output_type": "stream",
     "text": [
      "Enter kilometers(km): 2.2\n",
      "2.2km is equal to 1.37miles\n"
     ]
    }
   ],
   "source": [
    "## 1 mile = 0.621371 * km\n",
    "\n",
    "const = 0.621371\n",
    "km = float(input(\"Enter kilometers(km): \"))\n",
    "\n",
    "print(f\"{km}km is equal to {round(km * const, 2)}miles\")"
   ]
  },
  {
   "cell_type": "markdown",
   "metadata": {},
   "source": [
    "## Question 2\n",
    "\n",
    "Write a Python program to convert Celsius to Fahrenheit?"
   ]
  },
  {
   "cell_type": "code",
   "execution_count": null,
   "metadata": {},
   "outputs": [],
   "source": [
    "## F = (Celcius × 9/5) + 32\n",
    "\n",
    "cel = float(input(\"Enter temperature in Celcius: \"))\n",
    "\n",
    "print(f\"{cel} degree celcius is equal to {round((cel * 9/5) + 32, 2)}F\")"
   ]
  },
  {
   "cell_type": "markdown",
   "metadata": {},
   "source": [
    "## Question 3\n",
    "\n",
    "Write a Python program to display calendar?"
   ]
  },
  {
   "cell_type": "code",
   "execution_count": 11,
   "metadata": {},
   "outputs": [
    {
     "name": "stdout",
     "output_type": "stream",
     "text": [
      "Enter month: 11\n",
      "Enter year:2016\n",
      "   November 2016\n",
      "Mo Tu We Th Fr Sa Su\n",
      "    1  2  3  4  5  6\n",
      " 7  8  9 10 11 12 13\n",
      "14 15 16 17 18 19 20\n",
      "21 22 23 24 25 26 27\n",
      "28 29 30\n",
      "\n"
     ]
    }
   ],
   "source": [
    "import calendar\n",
    "\n",
    "month = int(input(\"Enter month: \"))\n",
    "year = int(input(\"Enter year:\"))\n",
    "\n",
    "## Display calendar\n",
    "print(calendar.month(year, month))"
   ]
  },
  {
   "cell_type": "markdown",
   "metadata": {},
   "source": [
    "## Question 4\n",
    "\n",
    "Write a Python program to solve quadratic equation?"
   ]
  },
  {
   "cell_type": "code",
   "execution_count": 18,
   "metadata": {},
   "outputs": [
    {
     "name": "stdout",
     "output_type": "stream",
     "text": [
      "Enter the value of a: 2\n",
      "Enter the value of b: 3\n",
      "Enter the value of c: 4\n",
      "Solutions for the user inputted constants are (-3+4.795831523312719j) and (-3-4.795831523312719j)\n"
     ]
    }
   ],
   "source": [
    "## Solution for the quadratic equation ax^2 + bx +c = 0\n",
    "## cmath package to perform complex math functions\n",
    "import cmath\n",
    "\n",
    "a = int(input(\"Enter the value of a: \"))\n",
    "b = int(input(\"Enter the value of b: \"))\n",
    "c = int(input(\"Enter the value of c: \"))\n",
    "\n",
    "d = cmath.sqrt(b ** 2 - 4 * a * c)\n",
    "\n",
    "x1 = (-b + d)/2 * a\n",
    "x2 = (-b - d)/ 2 * a\n",
    "\n",
    "print(f\"Solutions for the user inputted constants are {x1} and {x2}\")"
   ]
  },
  {
   "cell_type": "markdown",
   "metadata": {},
   "source": [
    "## Question 5\n",
    "\n",
    "Write a Python program to swap two variables without temp variable?"
   ]
  },
  {
   "cell_type": "code",
   "execution_count": 22,
   "metadata": {},
   "outputs": [
    {
     "name": "stdout",
     "output_type": "stream",
     "text": [
      "Please enter number {i}: 4\n",
      "Please enter number {i}: 6\n",
      "The entered numbers are [4, 6]\n",
      "The swapped numbers are [6, 4]\n"
     ]
    }
   ],
   "source": [
    "## Accept input from user\n",
    "nums = list()\n",
    "for i in range(2):\n",
    "    nums.append(int(input(\"Please enter number {i}: \")))\n",
    "\n",
    "## Results\n",
    "\n",
    "print(f\"The entered numbers are {nums}\")\n",
    "print(f\"The swapped numbers are {nums[::-1]}\")"
   ]
  }
 ],
 "metadata": {
  "kernelspec": {
   "display_name": "Python 3",
   "language": "python",
   "name": "python3"
  },
  "language_info": {
   "codemirror_mode": {
    "name": "ipython",
    "version": 3
   },
   "file_extension": ".py",
   "mimetype": "text/x-python",
   "name": "python",
   "nbconvert_exporter": "python",
   "pygments_lexer": "ipython3",
   "version": "3.7.6"
  }
 },
 "nbformat": 4,
 "nbformat_minor": 4
}
