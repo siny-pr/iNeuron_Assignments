{
 "cells": [
  {
   "cell_type": "markdown",
   "metadata": {},
   "source": [
    "## Question 1\n",
    "\n",
    "Write a Python program to print \"Hello Python\"?"
   ]
  },
  {
   "cell_type": "code",
   "execution_count": 1,
   "metadata": {},
   "outputs": [
    {
     "name": "stdout",
     "output_type": "stream",
     "text": [
      "Hello Python\n"
     ]
    }
   ],
   "source": [
    "print(\"Hello Python\")"
   ]
  },
  {
   "cell_type": "markdown",
   "metadata": {},
   "source": [
    "## Question 2\n",
    "\n",
    "Write a Python program to do arithmetical operations addition and division.?"
   ]
  },
  {
   "cell_type": "code",
   "execution_count": 2,
   "metadata": {},
   "outputs": [
    {
     "name": "stdout",
     "output_type": "stream",
     "text": [
      "Please enter first number: 10\n",
      "Please enter second number: 5\n",
      "The results are:\n",
      "10 + 5 = 15\n",
      "10 / 5 = 2.0\n"
     ]
    }
   ],
   "source": [
    "## User input\n",
    "\n",
    "a = int(input(\"Please enter first number: \"))\n",
    "b = int(input(\"Please enter second number: \"))\n",
    "\n",
    "## Print result\n",
    "print(\"The results are:\")\n",
    "print(f\"{a} + {b} = {a+b}\")\n",
    "print(f\"{a} / {b} = {a/b}\")"
   ]
  },
  {
   "cell_type": "markdown",
   "metadata": {},
   "source": [
    "## Question 3\n",
    "\n",
    "Write a Python program to find the area of a triangle?"
   ]
  },
  {
   "cell_type": "code",
   "execution_count": 3,
   "metadata": {},
   "outputs": [
    {
     "name": "stdout",
     "output_type": "stream",
     "text": [
      "Please enter base(cm): 10\n",
      "Please enter height(cm): 5\n",
      "Area of the right triangle is : 25.0 cm^2\n"
     ]
    }
   ],
   "source": [
    "## Area of right triangle = base * height /2\n",
    "\n",
    "h = int(input(\"Please enter base(cm): \"))\n",
    "b = int(input(\"Please enter height(cm): \"))\n",
    "\n",
    "print(f\"Area of the right triangle is : {h *b/2} cm^2\")\n"
   ]
  },
  {
   "cell_type": "markdown",
   "metadata": {},
   "source": [
    "## Question 4\n",
    "\n",
    "Write a Python program to swap two variables?"
   ]
  },
  {
   "cell_type": "code",
   "execution_count": 10,
   "metadata": {},
   "outputs": [
    {
     "name": "stdout",
     "output_type": "stream",
     "text": [
      "Please enter number {i}: 11\n",
      "Please enter number {i}: 18\n",
      "The entered numbers are [11, 18]\n",
      "The swapped numbers are [18, 11]\n"
     ]
    }
   ],
   "source": [
    "## Accept input from user\n",
    "nums = list()\n",
    "for i in range(2):\n",
    "    nums.append(int(input(\"Please enter number {i}: \")))\n",
    "\n",
    "## Results\n",
    "\n",
    "print(f\"The entered numbers are {nums}\")\n",
    "print(f\"The swapped numbers are {nums[::-1]}\")"
   ]
  },
  {
   "cell_type": "markdown",
   "metadata": {},
   "source": [
    "## Question 5\n",
    "\n",
    "Write a Python program to generate a random number?"
   ]
  },
  {
   "cell_type": "code",
   "execution_count": 21,
   "metadata": {},
   "outputs": [
    {
     "name": "stdout",
     "output_type": "stream",
     "text": [
      "The random number generated between 5 and 10 is 7\n"
     ]
    }
   ],
   "source": [
    "import random\n",
    "\n",
    "print(f\"The random number generated between 5 and 10 is {random.randint(5, 10)}\")"
   ]
  }
 ],
 "metadata": {
  "kernelspec": {
   "display_name": "Python 3",
   "language": "python",
   "name": "python3"
  },
  "language_info": {
   "codemirror_mode": {
    "name": "ipython",
    "version": 3
   },
   "file_extension": ".py",
   "mimetype": "text/x-python",
   "name": "python",
   "nbconvert_exporter": "python",
   "pygments_lexer": "ipython3",
   "version": "3.7.6"
  }
 },
 "nbformat": 4,
 "nbformat_minor": 4
}
